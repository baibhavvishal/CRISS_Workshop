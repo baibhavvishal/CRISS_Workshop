{
  "nbformat": 4,
  "nbformat_minor": 0,
  "metadata": {
    "colab": {
      "provenance": [],
      "authorship_tag": "ABX9TyOg7MSmOg3DAV063uhz3i2p",
      "include_colab_link": true
    },
    "kernelspec": {
      "name": "python3",
      "display_name": "Python 3"
    },
    "language_info": {
      "name": "python"
    }
  },
  "cells": [
    {
      "cell_type": "markdown",
      "metadata": {
        "id": "view-in-github",
        "colab_type": "text"
      },
      "source": [
        "<a href=\"https://colab.research.google.com/github/caasinietsnie/CRISS_Workshop/blob/main/CRISS_TASK1.ipynb\" target=\"_parent\"><img src=\"https://colab.research.google.com/assets/colab-badge.svg\" alt=\"Open In Colab\"/></a>"
      ]
    },
    {
      "cell_type": "code",
      "execution_count": null,
      "metadata": {
        "id": "0FOpjv2dAMWS"
      },
      "outputs": [],
      "source": [
        "import socket\n",
        "\n",
        "serverIP=\"172.17.29.11\"\n",
        "serverPORT=6000\n",
        "\n",
        "serveraddress=(serverIP,serverPORT)\n",
        "buffersize=1024\n",
        "\n",
        "UDPClientSocket=socket.socket(family=socket.AF_INET,type=socket.SOCK_DGRAM)\n",
        "message=\"Hi My Name is Baibhav Vishal\"\n",
        "bytestosned=str.encode(message)\n",
        "UDPClientSocket.sendto(bytestosned,serveraddress)"
      ]
    }
  ]
}